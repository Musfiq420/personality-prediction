{
 "cells": [
  {
   "cell_type": "code",
   "execution_count": 65,
   "id": "3d3843c2",
   "metadata": {},
   "outputs": [
    {
     "data": {
      "application/vnd.microsoft.datawrangler.viewer.v0+json": {
       "columns": [
        {
         "name": "index",
         "rawType": "int64",
         "type": "integer"
        },
        {
         "name": "Time_spent_Alone",
         "rawType": "float64",
         "type": "float"
        },
        {
         "name": "Stage_fear",
         "rawType": "object",
         "type": "unknown"
        },
        {
         "name": "Social_event_attendance",
         "rawType": "float64",
         "type": "float"
        },
        {
         "name": "Going_outside",
         "rawType": "float64",
         "type": "float"
        },
        {
         "name": "Drained_after_socializing",
         "rawType": "object",
         "type": "unknown"
        },
        {
         "name": "Friends_circle_size",
         "rawType": "float64",
         "type": "float"
        },
        {
         "name": "Post_frequency",
         "rawType": "float64",
         "type": "float"
        },
        {
         "name": "Personality",
         "rawType": "object",
         "type": "string"
        }
       ],
       "ref": "9fc41c1c-094d-4786-bfcb-41d9e318a781",
       "rows": [
        [
         "0",
         "4.0",
         "No",
         "4.0",
         "6.0",
         "No",
         "13.0",
         "5.0",
         "Extrovert"
        ],
        [
         "1",
         "9.0",
         "Yes",
         "0.0",
         "0.0",
         "Yes",
         "0.0",
         "3.0",
         "Introvert"
        ],
        [
         "2",
         "9.0",
         "Yes",
         "1.0",
         "2.0",
         "Yes",
         "5.0",
         "2.0",
         "Introvert"
        ],
        [
         "3",
         "0.0",
         "No",
         "6.0",
         "7.0",
         "No",
         "14.0",
         "8.0",
         "Extrovert"
        ],
        [
         "4",
         "3.0",
         "No",
         "9.0",
         "4.0",
         "No",
         "8.0",
         "5.0",
         "Extrovert"
        ],
        [
         "5",
         "1.0",
         "No",
         "7.0",
         "5.0",
         "No",
         "6.0",
         "6.0",
         "Extrovert"
        ],
        [
         "6",
         "4.0",
         "No",
         "9.0",
         null,
         "No",
         "7.0",
         "7.0",
         "Extrovert"
        ],
        [
         "7",
         "2.0",
         "No",
         "8.0",
         "4.0",
         "No",
         "7.0",
         "8.0",
         "Extrovert"
        ],
        [
         "8",
         "10.0",
         "Yes",
         "1.0",
         "3.0",
         "Yes",
         "0.0",
         "3.0",
         "Introvert"
        ],
        [
         "9",
         "0.0",
         "No",
         "8.0",
         "6.0",
         "No",
         "13.0",
         "8.0",
         "Extrovert"
        ],
        [
         "10",
         "3.0",
         "No",
         "9.0",
         "6.0",
         "No",
         "15.0",
         "5.0",
         "Extrovert"
        ],
        [
         "11",
         "10.0",
         "Yes",
         "3.0",
         "1.0",
         "Yes",
         "4.0",
         "0.0",
         "Introvert"
        ],
        [
         "12",
         "3.0",
         "No",
         "6.0",
         "7.0",
         "No",
         "14.0",
         "10.0",
         "Extrovert"
        ],
        [
         "13",
         "3.0",
         "No",
         "6.0",
         "4.0",
         "No",
         "10.0",
         "7.0",
         "Extrovert"
        ],
        [
         "14",
         "6.0",
         "Yes",
         "3.0",
         "0.0",
         "Yes",
         "1.0",
         "3.0",
         "Introvert"
        ],
        [
         "15",
         "0.0",
         "No",
         "4.0",
         "4.0",
         "No",
         "8.0",
         "8.0",
         "Extrovert"
        ],
        [
         "16",
         "9.0",
         "Yes",
         "0.0",
         "0.0",
         "Yes",
         "0.0",
         "0.0",
         "Introvert"
        ],
        [
         "17",
         "1.0",
         "No",
         "5.0",
         "6.0",
         "No",
         "10.0",
         "4.0",
         "Extrovert"
        ],
        [
         "18",
         "5.0",
         "Yes",
         "3.0",
         "0.0",
         "Yes",
         "4.0",
         "2.0",
         "Introvert"
        ],
        [
         "19",
         "1.0",
         "No",
         "7.0",
         "5.0",
         "No",
         "12.0",
         "5.0",
         "Extrovert"
        ],
        [
         "20",
         "10.0",
         "Yes",
         "3.0",
         "1.0",
         "Yes",
         "2.0",
         "1.0",
         "Introvert"
        ],
        [
         "21",
         "2.0",
         "No",
         "8.0",
         "4.0",
         "No",
         "13.0",
         "6.0",
         "Extrovert"
        ],
        [
         "22",
         "1.0",
         "No",
         "6.0",
         "7.0",
         "No",
         "14.0",
         "9.0",
         "Extrovert"
        ],
        [
         "23",
         "9.0",
         "Yes",
         "2.0",
         "2.0",
         "Yes",
         "1.0",
         "0.0",
         "Introvert"
        ],
        [
         "24",
         "2.0",
         "No",
         "8.0",
         "7.0",
         "No",
         "15.0",
         "6.0",
         "Extrovert"
        ],
        [
         "25",
         "2.0",
         "No",
         "8.0",
         "4.0",
         "No",
         "11.0",
         "9.0",
         "Extrovert"
        ],
        [
         "26",
         "0.0",
         "No",
         "6.0",
         "4.0",
         "No",
         "14.0",
         "9.0",
         "Extrovert"
        ],
        [
         "27",
         "4.0",
         "No",
         "5.0",
         "7.0",
         "No",
         "6.0",
         "6.0",
         "Extrovert"
        ],
        [
         "28",
         "2.0",
         "No",
         "6.0",
         "4.0",
         "No",
         "12.0",
         "10.0",
         "Extrovert"
        ],
        [
         "29",
         "0.0",
         "No",
         "9.0",
         "4.0",
         "No",
         "14.0",
         "7.0",
         "Extrovert"
        ],
        [
         "30",
         "4.0",
         "No",
         "10.0",
         "4.0",
         "No",
         "9.0",
         "10.0",
         "Extrovert"
        ],
        [
         "31",
         "4.0",
         "No",
         "7.0",
         "7.0",
         "No",
         "7.0",
         "9.0",
         "Extrovert"
        ],
        [
         "32",
         "5.0",
         "Yes",
         "3.0",
         "3.0",
         "Yes",
         "0.0",
         "1.0",
         "Introvert"
        ],
        [
         "33",
         "8.0",
         "Yes",
         "3.0",
         "3.0",
         null,
         "2.0",
         "0.0",
         "Introvert"
        ],
        [
         "34",
         "10.0",
         "Yes",
         "1.0",
         "1.0",
         "Yes",
         "3.0",
         "2.0",
         "Introvert"
        ],
        [
         "35",
         "2.0",
         "No",
         "6.0",
         "5.0",
         "No",
         "14.0",
         "9.0",
         "Extrovert"
        ],
        [
         "36",
         "1.0",
         "No",
         "4.0",
         "4.0",
         "No",
         "15.0",
         "4.0",
         "Extrovert"
        ],
        [
         "37",
         "1.0",
         "No",
         "6.0",
         "4.0",
         "No",
         "10.0",
         "5.0",
         "Extrovert"
        ],
        [
         "38",
         "10.0",
         "Yes",
         "1.0",
         "2.0",
         "Yes",
         "2.0",
         "0.0",
         "Introvert"
        ],
        [
         "39",
         "5.0",
         "Yes",
         "0.0",
         "1.0",
         "Yes",
         "5.0",
         "0.0",
         "Introvert"
        ],
        [
         "40",
         "3.0",
         "No",
         "5.0",
         "5.0",
         "No",
         "13.0",
         "5.0",
         "Extrovert"
        ],
        [
         "41",
         "1.0",
         "No",
         "4.0",
         "5.0",
         "No",
         null,
         "10.0",
         "Extrovert"
        ],
        [
         "42",
         "9.0",
         "Yes",
         "1.0",
         "3.0",
         "Yes",
         "2.0",
         "2.0",
         "Introvert"
        ],
        [
         "43",
         "6.0",
         "Yes",
         "2.0",
         "2.0",
         "Yes",
         "2.0",
         "1.0",
         "Introvert"
        ],
        [
         "44",
         "8.0",
         "Yes",
         "2.0",
         "1.0",
         "Yes",
         "5.0",
         "3.0",
         "Introvert"
        ],
        [
         "45",
         "0.0",
         "No",
         "8.0",
         "6.0",
         "No",
         "6.0",
         "10.0",
         "Extrovert"
        ],
        [
         "46",
         "4.0",
         "No",
         "7.0",
         "4.0",
         "No",
         "13.0",
         "10.0",
         "Extrovert"
        ],
        [
         "47",
         "10.0",
         "Yes",
         "1.0",
         "2.0",
         "Yes",
         "2.0",
         "0.0",
         "Introvert"
        ],
        [
         "48",
         "5.0",
         "Yes",
         "1.0",
         "3.0",
         "Yes",
         "3.0",
         "3.0",
         "Introvert"
        ],
        [
         "49",
         "1.0",
         "No",
         "5.0",
         "6.0",
         "No",
         "8.0",
         "10.0",
         "Extrovert"
        ]
       ],
       "shape": {
        "columns": 8,
        "rows": 2900
       }
      },
      "text/html": [
       "<div>\n",
       "<style scoped>\n",
       "    .dataframe tbody tr th:only-of-type {\n",
       "        vertical-align: middle;\n",
       "    }\n",
       "\n",
       "    .dataframe tbody tr th {\n",
       "        vertical-align: top;\n",
       "    }\n",
       "\n",
       "    .dataframe thead th {\n",
       "        text-align: right;\n",
       "    }\n",
       "</style>\n",
       "<table border=\"1\" class=\"dataframe\">\n",
       "  <thead>\n",
       "    <tr style=\"text-align: right;\">\n",
       "      <th></th>\n",
       "      <th>Time_spent_Alone</th>\n",
       "      <th>Stage_fear</th>\n",
       "      <th>Social_event_attendance</th>\n",
       "      <th>Going_outside</th>\n",
       "      <th>Drained_after_socializing</th>\n",
       "      <th>Friends_circle_size</th>\n",
       "      <th>Post_frequency</th>\n",
       "      <th>Personality</th>\n",
       "    </tr>\n",
       "  </thead>\n",
       "  <tbody>\n",
       "    <tr>\n",
       "      <th>0</th>\n",
       "      <td>4.0</td>\n",
       "      <td>No</td>\n",
       "      <td>4.0</td>\n",
       "      <td>6.0</td>\n",
       "      <td>No</td>\n",
       "      <td>13.0</td>\n",
       "      <td>5.0</td>\n",
       "      <td>Extrovert</td>\n",
       "    </tr>\n",
       "    <tr>\n",
       "      <th>1</th>\n",
       "      <td>9.0</td>\n",
       "      <td>Yes</td>\n",
       "      <td>0.0</td>\n",
       "      <td>0.0</td>\n",
       "      <td>Yes</td>\n",
       "      <td>0.0</td>\n",
       "      <td>3.0</td>\n",
       "      <td>Introvert</td>\n",
       "    </tr>\n",
       "    <tr>\n",
       "      <th>2</th>\n",
       "      <td>9.0</td>\n",
       "      <td>Yes</td>\n",
       "      <td>1.0</td>\n",
       "      <td>2.0</td>\n",
       "      <td>Yes</td>\n",
       "      <td>5.0</td>\n",
       "      <td>2.0</td>\n",
       "      <td>Introvert</td>\n",
       "    </tr>\n",
       "    <tr>\n",
       "      <th>3</th>\n",
       "      <td>0.0</td>\n",
       "      <td>No</td>\n",
       "      <td>6.0</td>\n",
       "      <td>7.0</td>\n",
       "      <td>No</td>\n",
       "      <td>14.0</td>\n",
       "      <td>8.0</td>\n",
       "      <td>Extrovert</td>\n",
       "    </tr>\n",
       "    <tr>\n",
       "      <th>4</th>\n",
       "      <td>3.0</td>\n",
       "      <td>No</td>\n",
       "      <td>9.0</td>\n",
       "      <td>4.0</td>\n",
       "      <td>No</td>\n",
       "      <td>8.0</td>\n",
       "      <td>5.0</td>\n",
       "      <td>Extrovert</td>\n",
       "    </tr>\n",
       "    <tr>\n",
       "      <th>...</th>\n",
       "      <td>...</td>\n",
       "      <td>...</td>\n",
       "      <td>...</td>\n",
       "      <td>...</td>\n",
       "      <td>...</td>\n",
       "      <td>...</td>\n",
       "      <td>...</td>\n",
       "      <td>...</td>\n",
       "    </tr>\n",
       "    <tr>\n",
       "      <th>2895</th>\n",
       "      <td>3.0</td>\n",
       "      <td>No</td>\n",
       "      <td>7.0</td>\n",
       "      <td>6.0</td>\n",
       "      <td>No</td>\n",
       "      <td>6.0</td>\n",
       "      <td>6.0</td>\n",
       "      <td>Extrovert</td>\n",
       "    </tr>\n",
       "    <tr>\n",
       "      <th>2896</th>\n",
       "      <td>3.0</td>\n",
       "      <td>No</td>\n",
       "      <td>8.0</td>\n",
       "      <td>3.0</td>\n",
       "      <td>No</td>\n",
       "      <td>14.0</td>\n",
       "      <td>9.0</td>\n",
       "      <td>Extrovert</td>\n",
       "    </tr>\n",
       "    <tr>\n",
       "      <th>2897</th>\n",
       "      <td>4.0</td>\n",
       "      <td>Yes</td>\n",
       "      <td>1.0</td>\n",
       "      <td>1.0</td>\n",
       "      <td>Yes</td>\n",
       "      <td>4.0</td>\n",
       "      <td>0.0</td>\n",
       "      <td>Introvert</td>\n",
       "    </tr>\n",
       "    <tr>\n",
       "      <th>2898</th>\n",
       "      <td>11.0</td>\n",
       "      <td>Yes</td>\n",
       "      <td>1.0</td>\n",
       "      <td>NaN</td>\n",
       "      <td>Yes</td>\n",
       "      <td>2.0</td>\n",
       "      <td>0.0</td>\n",
       "      <td>Introvert</td>\n",
       "    </tr>\n",
       "    <tr>\n",
       "      <th>2899</th>\n",
       "      <td>3.0</td>\n",
       "      <td>No</td>\n",
       "      <td>6.0</td>\n",
       "      <td>6.0</td>\n",
       "      <td>No</td>\n",
       "      <td>6.0</td>\n",
       "      <td>9.0</td>\n",
       "      <td>Extrovert</td>\n",
       "    </tr>\n",
       "  </tbody>\n",
       "</table>\n",
       "<p>2900 rows × 8 columns</p>\n",
       "</div>"
      ],
      "text/plain": [
       "      Time_spent_Alone Stage_fear  Social_event_attendance  Going_outside  \\\n",
       "0                  4.0         No                      4.0            6.0   \n",
       "1                  9.0        Yes                      0.0            0.0   \n",
       "2                  9.0        Yes                      1.0            2.0   \n",
       "3                  0.0         No                      6.0            7.0   \n",
       "4                  3.0         No                      9.0            4.0   \n",
       "...                ...        ...                      ...            ...   \n",
       "2895               3.0         No                      7.0            6.0   \n",
       "2896               3.0         No                      8.0            3.0   \n",
       "2897               4.0        Yes                      1.0            1.0   \n",
       "2898              11.0        Yes                      1.0            NaN   \n",
       "2899               3.0         No                      6.0            6.0   \n",
       "\n",
       "     Drained_after_socializing  Friends_circle_size  Post_frequency  \\\n",
       "0                           No                 13.0             5.0   \n",
       "1                          Yes                  0.0             3.0   \n",
       "2                          Yes                  5.0             2.0   \n",
       "3                           No                 14.0             8.0   \n",
       "4                           No                  8.0             5.0   \n",
       "...                        ...                  ...             ...   \n",
       "2895                        No                  6.0             6.0   \n",
       "2896                        No                 14.0             9.0   \n",
       "2897                       Yes                  4.0             0.0   \n",
       "2898                       Yes                  2.0             0.0   \n",
       "2899                        No                  6.0             9.0   \n",
       "\n",
       "     Personality  \n",
       "0      Extrovert  \n",
       "1      Introvert  \n",
       "2      Introvert  \n",
       "3      Extrovert  \n",
       "4      Extrovert  \n",
       "...          ...  \n",
       "2895   Extrovert  \n",
       "2896   Extrovert  \n",
       "2897   Introvert  \n",
       "2898   Introvert  \n",
       "2899   Extrovert  \n",
       "\n",
       "[2900 rows x 8 columns]"
      ]
     },
     "execution_count": 65,
     "metadata": {},
     "output_type": "execute_result"
    }
   ],
   "source": [
    "import pandas as pd\n",
    "import numpy as np\n",
    "\n",
    "df = pd.read_csv(\"personality_dataset.csv\")\n",
    "df"
   ]
  },
  {
   "cell_type": "code",
   "execution_count": 66,
   "id": "30661d28",
   "metadata": {},
   "outputs": [
    {
     "name": "stdout",
     "output_type": "stream",
     "text": [
      "<class 'pandas.core.frame.DataFrame'>\n",
      "RangeIndex: 2900 entries, 0 to 2899\n",
      "Data columns (total 8 columns):\n",
      " #   Column                     Non-Null Count  Dtype  \n",
      "---  ------                     --------------  -----  \n",
      " 0   Time_spent_Alone           2837 non-null   float64\n",
      " 1   Stage_fear                 2827 non-null   object \n",
      " 2   Social_event_attendance    2838 non-null   float64\n",
      " 3   Going_outside              2834 non-null   float64\n",
      " 4   Drained_after_socializing  2848 non-null   object \n",
      " 5   Friends_circle_size        2823 non-null   float64\n",
      " 6   Post_frequency             2835 non-null   float64\n",
      " 7   Personality                2900 non-null   object \n",
      "dtypes: float64(5), object(3)\n",
      "memory usage: 181.4+ KB\n"
     ]
    }
   ],
   "source": [
    "df.info()"
   ]
  },
  {
   "cell_type": "code",
   "execution_count": 67,
   "id": "105a6921",
   "metadata": {},
   "outputs": [
    {
     "data": {
      "application/vnd.microsoft.datawrangler.viewer.v0+json": {
       "columns": [
        {
         "name": "index",
         "rawType": "object",
         "type": "string"
        },
        {
         "name": "0",
         "rawType": "int64",
         "type": "integer"
        }
       ],
       "ref": "296ba4f4-7c0d-42ae-bfe6-0c7cf982acbc",
       "rows": [
        [
         "Time_spent_Alone",
         "63"
        ],
        [
         "Stage_fear",
         "73"
        ],
        [
         "Social_event_attendance",
         "62"
        ],
        [
         "Going_outside",
         "66"
        ],
        [
         "Drained_after_socializing",
         "52"
        ],
        [
         "Friends_circle_size",
         "77"
        ],
        [
         "Post_frequency",
         "65"
        ],
        [
         "Personality",
         "0"
        ]
       ],
       "shape": {
        "columns": 1,
        "rows": 8
       }
      },
      "text/plain": [
       "Time_spent_Alone             63\n",
       "Stage_fear                   73\n",
       "Social_event_attendance      62\n",
       "Going_outside                66\n",
       "Drained_after_socializing    52\n",
       "Friends_circle_size          77\n",
       "Post_frequency               65\n",
       "Personality                   0\n",
       "dtype: int64"
      ]
     },
     "execution_count": 67,
     "metadata": {},
     "output_type": "execute_result"
    }
   ],
   "source": [
    "df.isnull().sum()"
   ]
  },
  {
   "cell_type": "code",
   "execution_count": 68,
   "id": "ffc32424",
   "metadata": {},
   "outputs": [
    {
     "name": "stdout",
     "output_type": "stream",
     "text": [
      "Stage_fear mapping: {'No': np.int64(0), 'Yes': np.int64(1), nan: np.int64(2)}\n",
      "Drained_after_socializing mapping: {'No': np.int64(0), 'Yes': np.int64(1), nan: np.int64(2)}\n",
      "Personality mapping: {'Extrovert': np.int64(0), 'Introvert': np.int64(1)}\n"
     ]
    },
    {
     "data": {
      "application/vnd.microsoft.datawrangler.viewer.v0+json": {
       "columns": [
        {
         "name": "index",
         "rawType": "int64",
         "type": "integer"
        },
        {
         "name": "Time_spent_Alone",
         "rawType": "float64",
         "type": "float"
        },
        {
         "name": "Stage_fear",
         "rawType": "int64",
         "type": "integer"
        },
        {
         "name": "Social_event_attendance",
         "rawType": "float64",
         "type": "float"
        },
        {
         "name": "Going_outside",
         "rawType": "float64",
         "type": "float"
        },
        {
         "name": "Drained_after_socializing",
         "rawType": "int64",
         "type": "integer"
        },
        {
         "name": "Friends_circle_size",
         "rawType": "float64",
         "type": "float"
        },
        {
         "name": "Post_frequency",
         "rawType": "float64",
         "type": "float"
        },
        {
         "name": "Personality",
         "rawType": "int64",
         "type": "integer"
        }
       ],
       "ref": "eff23210-69fc-466b-8103-640505edcaaf",
       "rows": [
        [
         "0",
         "4.0",
         "0",
         "4.0",
         "6.0",
         "0",
         "13.0",
         "5.0",
         "0"
        ],
        [
         "1",
         "9.0",
         "1",
         "0.0",
         "0.0",
         "1",
         "0.0",
         "3.0",
         "1"
        ],
        [
         "2",
         "9.0",
         "1",
         "1.0",
         "2.0",
         "1",
         "5.0",
         "2.0",
         "1"
        ],
        [
         "3",
         "0.0",
         "0",
         "6.0",
         "7.0",
         "0",
         "14.0",
         "8.0",
         "0"
        ],
        [
         "4",
         "3.0",
         "0",
         "9.0",
         "4.0",
         "0",
         "8.0",
         "5.0",
         "0"
        ],
        [
         "5",
         "1.0",
         "0",
         "7.0",
         "5.0",
         "0",
         "6.0",
         "6.0",
         "0"
        ],
        [
         "6",
         "4.0",
         "0",
         "9.0",
         "3.0",
         "0",
         "7.0",
         "7.0",
         "0"
        ],
        [
         "7",
         "2.0",
         "0",
         "8.0",
         "4.0",
         "0",
         "7.0",
         "8.0",
         "0"
        ],
        [
         "8",
         "10.0",
         "1",
         "1.0",
         "3.0",
         "1",
         "0.0",
         "3.0",
         "1"
        ],
        [
         "9",
         "0.0",
         "0",
         "8.0",
         "6.0",
         "0",
         "13.0",
         "8.0",
         "0"
        ],
        [
         "10",
         "3.0",
         "0",
         "9.0",
         "6.0",
         "0",
         "15.0",
         "5.0",
         "0"
        ],
        [
         "11",
         "10.0",
         "1",
         "3.0",
         "1.0",
         "1",
         "4.0",
         "0.0",
         "1"
        ],
        [
         "12",
         "3.0",
         "0",
         "6.0",
         "7.0",
         "0",
         "14.0",
         "10.0",
         "0"
        ],
        [
         "13",
         "3.0",
         "0",
         "6.0",
         "4.0",
         "0",
         "10.0",
         "7.0",
         "0"
        ],
        [
         "14",
         "6.0",
         "1",
         "3.0",
         "0.0",
         "1",
         "1.0",
         "3.0",
         "1"
        ],
        [
         "15",
         "0.0",
         "0",
         "4.0",
         "4.0",
         "0",
         "8.0",
         "8.0",
         "0"
        ],
        [
         "16",
         "9.0",
         "1",
         "0.0",
         "0.0",
         "1",
         "0.0",
         "0.0",
         "1"
        ],
        [
         "17",
         "1.0",
         "0",
         "5.0",
         "6.0",
         "0",
         "10.0",
         "4.0",
         "0"
        ],
        [
         "18",
         "5.0",
         "1",
         "3.0",
         "0.0",
         "1",
         "4.0",
         "2.0",
         "1"
        ],
        [
         "19",
         "1.0",
         "0",
         "7.0",
         "5.0",
         "0",
         "12.0",
         "5.0",
         "0"
        ],
        [
         "20",
         "10.0",
         "1",
         "3.0",
         "1.0",
         "1",
         "2.0",
         "1.0",
         "1"
        ],
        [
         "21",
         "2.0",
         "0",
         "8.0",
         "4.0",
         "0",
         "13.0",
         "6.0",
         "0"
        ],
        [
         "22",
         "1.0",
         "0",
         "6.0",
         "7.0",
         "0",
         "14.0",
         "9.0",
         "0"
        ],
        [
         "23",
         "9.0",
         "1",
         "2.0",
         "2.0",
         "1",
         "1.0",
         "0.0",
         "1"
        ],
        [
         "24",
         "2.0",
         "0",
         "8.0",
         "7.0",
         "0",
         "15.0",
         "6.0",
         "0"
        ],
        [
         "25",
         "2.0",
         "0",
         "8.0",
         "4.0",
         "0",
         "11.0",
         "9.0",
         "0"
        ],
        [
         "26",
         "0.0",
         "0",
         "6.0",
         "4.0",
         "0",
         "14.0",
         "9.0",
         "0"
        ],
        [
         "27",
         "4.0",
         "0",
         "5.0",
         "7.0",
         "0",
         "6.0",
         "6.0",
         "0"
        ],
        [
         "28",
         "2.0",
         "0",
         "6.0",
         "4.0",
         "0",
         "12.0",
         "10.0",
         "0"
        ],
        [
         "29",
         "0.0",
         "0",
         "9.0",
         "4.0",
         "0",
         "14.0",
         "7.0",
         "0"
        ],
        [
         "30",
         "4.0",
         "0",
         "10.0",
         "4.0",
         "0",
         "9.0",
         "10.0",
         "0"
        ],
        [
         "31",
         "4.0",
         "0",
         "7.0",
         "7.0",
         "0",
         "7.0",
         "9.0",
         "0"
        ],
        [
         "32",
         "5.0",
         "1",
         "3.0",
         "3.0",
         "1",
         "0.0",
         "1.0",
         "1"
        ],
        [
         "33",
         "8.0",
         "1",
         "3.0",
         "3.0",
         "2",
         "2.0",
         "0.0",
         "1"
        ],
        [
         "34",
         "10.0",
         "1",
         "1.0",
         "1.0",
         "1",
         "3.0",
         "2.0",
         "1"
        ],
        [
         "35",
         "2.0",
         "0",
         "6.0",
         "5.0",
         "0",
         "14.0",
         "9.0",
         "0"
        ],
        [
         "36",
         "1.0",
         "0",
         "4.0",
         "4.0",
         "0",
         "15.0",
         "4.0",
         "0"
        ],
        [
         "37",
         "1.0",
         "0",
         "6.0",
         "4.0",
         "0",
         "10.0",
         "5.0",
         "0"
        ],
        [
         "38",
         "10.0",
         "1",
         "1.0",
         "2.0",
         "1",
         "2.0",
         "0.0",
         "1"
        ],
        [
         "39",
         "5.0",
         "1",
         "0.0",
         "1.0",
         "1",
         "5.0",
         "0.0",
         "1"
        ],
        [
         "40",
         "3.0",
         "0",
         "5.0",
         "5.0",
         "0",
         "13.0",
         "5.0",
         "0"
        ],
        [
         "41",
         "1.0",
         "0",
         "4.0",
         "5.0",
         "0",
         "6.268862911795962",
         "10.0",
         "0"
        ],
        [
         "42",
         "9.0",
         "1",
         "1.0",
         "3.0",
         "1",
         "2.0",
         "2.0",
         "1"
        ],
        [
         "43",
         "6.0",
         "1",
         "2.0",
         "2.0",
         "1",
         "2.0",
         "1.0",
         "1"
        ],
        [
         "44",
         "8.0",
         "1",
         "2.0",
         "1.0",
         "1",
         "5.0",
         "3.0",
         "1"
        ],
        [
         "45",
         "0.0",
         "0",
         "8.0",
         "6.0",
         "0",
         "6.0",
         "10.0",
         "0"
        ],
        [
         "46",
         "4.0",
         "0",
         "7.0",
         "4.0",
         "0",
         "13.0",
         "10.0",
         "0"
        ],
        [
         "47",
         "10.0",
         "1",
         "1.0",
         "2.0",
         "1",
         "2.0",
         "0.0",
         "1"
        ],
        [
         "48",
         "5.0",
         "1",
         "1.0",
         "3.0",
         "1",
         "3.0",
         "3.0",
         "1"
        ],
        [
         "49",
         "1.0",
         "0",
         "5.0",
         "6.0",
         "0",
         "8.0",
         "10.0",
         "0"
        ]
       ],
       "shape": {
        "columns": 8,
        "rows": 2900
       }
      },
      "text/html": [
       "<div>\n",
       "<style scoped>\n",
       "    .dataframe tbody tr th:only-of-type {\n",
       "        vertical-align: middle;\n",
       "    }\n",
       "\n",
       "    .dataframe tbody tr th {\n",
       "        vertical-align: top;\n",
       "    }\n",
       "\n",
       "    .dataframe thead th {\n",
       "        text-align: right;\n",
       "    }\n",
       "</style>\n",
       "<table border=\"1\" class=\"dataframe\">\n",
       "  <thead>\n",
       "    <tr style=\"text-align: right;\">\n",
       "      <th></th>\n",
       "      <th>Time_spent_Alone</th>\n",
       "      <th>Stage_fear</th>\n",
       "      <th>Social_event_attendance</th>\n",
       "      <th>Going_outside</th>\n",
       "      <th>Drained_after_socializing</th>\n",
       "      <th>Friends_circle_size</th>\n",
       "      <th>Post_frequency</th>\n",
       "      <th>Personality</th>\n",
       "    </tr>\n",
       "  </thead>\n",
       "  <tbody>\n",
       "    <tr>\n",
       "      <th>0</th>\n",
       "      <td>4.0</td>\n",
       "      <td>0</td>\n",
       "      <td>4.0</td>\n",
       "      <td>6.0</td>\n",
       "      <td>0</td>\n",
       "      <td>13.0</td>\n",
       "      <td>5.0</td>\n",
       "      <td>0</td>\n",
       "    </tr>\n",
       "    <tr>\n",
       "      <th>1</th>\n",
       "      <td>9.0</td>\n",
       "      <td>1</td>\n",
       "      <td>0.0</td>\n",
       "      <td>0.0</td>\n",
       "      <td>1</td>\n",
       "      <td>0.0</td>\n",
       "      <td>3.0</td>\n",
       "      <td>1</td>\n",
       "    </tr>\n",
       "    <tr>\n",
       "      <th>2</th>\n",
       "      <td>9.0</td>\n",
       "      <td>1</td>\n",
       "      <td>1.0</td>\n",
       "      <td>2.0</td>\n",
       "      <td>1</td>\n",
       "      <td>5.0</td>\n",
       "      <td>2.0</td>\n",
       "      <td>1</td>\n",
       "    </tr>\n",
       "    <tr>\n",
       "      <th>3</th>\n",
       "      <td>0.0</td>\n",
       "      <td>0</td>\n",
       "      <td>6.0</td>\n",
       "      <td>7.0</td>\n",
       "      <td>0</td>\n",
       "      <td>14.0</td>\n",
       "      <td>8.0</td>\n",
       "      <td>0</td>\n",
       "    </tr>\n",
       "    <tr>\n",
       "      <th>4</th>\n",
       "      <td>3.0</td>\n",
       "      <td>0</td>\n",
       "      <td>9.0</td>\n",
       "      <td>4.0</td>\n",
       "      <td>0</td>\n",
       "      <td>8.0</td>\n",
       "      <td>5.0</td>\n",
       "      <td>0</td>\n",
       "    </tr>\n",
       "    <tr>\n",
       "      <th>...</th>\n",
       "      <td>...</td>\n",
       "      <td>...</td>\n",
       "      <td>...</td>\n",
       "      <td>...</td>\n",
       "      <td>...</td>\n",
       "      <td>...</td>\n",
       "      <td>...</td>\n",
       "      <td>...</td>\n",
       "    </tr>\n",
       "    <tr>\n",
       "      <th>2895</th>\n",
       "      <td>3.0</td>\n",
       "      <td>0</td>\n",
       "      <td>7.0</td>\n",
       "      <td>6.0</td>\n",
       "      <td>0</td>\n",
       "      <td>6.0</td>\n",
       "      <td>6.0</td>\n",
       "      <td>0</td>\n",
       "    </tr>\n",
       "    <tr>\n",
       "      <th>2896</th>\n",
       "      <td>3.0</td>\n",
       "      <td>0</td>\n",
       "      <td>8.0</td>\n",
       "      <td>3.0</td>\n",
       "      <td>0</td>\n",
       "      <td>14.0</td>\n",
       "      <td>9.0</td>\n",
       "      <td>0</td>\n",
       "    </tr>\n",
       "    <tr>\n",
       "      <th>2897</th>\n",
       "      <td>4.0</td>\n",
       "      <td>1</td>\n",
       "      <td>1.0</td>\n",
       "      <td>1.0</td>\n",
       "      <td>1</td>\n",
       "      <td>4.0</td>\n",
       "      <td>0.0</td>\n",
       "      <td>1</td>\n",
       "    </tr>\n",
       "    <tr>\n",
       "      <th>2898</th>\n",
       "      <td>11.0</td>\n",
       "      <td>1</td>\n",
       "      <td>1.0</td>\n",
       "      <td>3.0</td>\n",
       "      <td>1</td>\n",
       "      <td>2.0</td>\n",
       "      <td>0.0</td>\n",
       "      <td>1</td>\n",
       "    </tr>\n",
       "    <tr>\n",
       "      <th>2899</th>\n",
       "      <td>3.0</td>\n",
       "      <td>0</td>\n",
       "      <td>6.0</td>\n",
       "      <td>6.0</td>\n",
       "      <td>0</td>\n",
       "      <td>6.0</td>\n",
       "      <td>9.0</td>\n",
       "      <td>0</td>\n",
       "    </tr>\n",
       "  </tbody>\n",
       "</table>\n",
       "<p>2900 rows × 8 columns</p>\n",
       "</div>"
      ],
      "text/plain": [
       "      Time_spent_Alone  Stage_fear  Social_event_attendance  Going_outside  \\\n",
       "0                  4.0           0                      4.0            6.0   \n",
       "1                  9.0           1                      0.0            0.0   \n",
       "2                  9.0           1                      1.0            2.0   \n",
       "3                  0.0           0                      6.0            7.0   \n",
       "4                  3.0           0                      9.0            4.0   \n",
       "...                ...         ...                      ...            ...   \n",
       "2895               3.0           0                      7.0            6.0   \n",
       "2896               3.0           0                      8.0            3.0   \n",
       "2897               4.0           1                      1.0            1.0   \n",
       "2898              11.0           1                      1.0            3.0   \n",
       "2899               3.0           0                      6.0            6.0   \n",
       "\n",
       "      Drained_after_socializing  Friends_circle_size  Post_frequency  \\\n",
       "0                             0                 13.0             5.0   \n",
       "1                             1                  0.0             3.0   \n",
       "2                             1                  5.0             2.0   \n",
       "3                             0                 14.0             8.0   \n",
       "4                             0                  8.0             5.0   \n",
       "...                         ...                  ...             ...   \n",
       "2895                          0                  6.0             6.0   \n",
       "2896                          0                 14.0             9.0   \n",
       "2897                          1                  4.0             0.0   \n",
       "2898                          1                  2.0             0.0   \n",
       "2899                          0                  6.0             9.0   \n",
       "\n",
       "      Personality  \n",
       "0               0  \n",
       "1               1  \n",
       "2               1  \n",
       "3               0  \n",
       "4               0  \n",
       "...           ...  \n",
       "2895            0  \n",
       "2896            0  \n",
       "2897            1  \n",
       "2898            1  \n",
       "2899            0  \n",
       "\n",
       "[2900 rows x 8 columns]"
      ]
     },
     "execution_count": 68,
     "metadata": {},
     "output_type": "execute_result"
    }
   ],
   "source": [
    "from sklearn.impute import SimpleImputer\n",
    "from sklearn.preprocessing import LabelEncoder\n",
    "\n",
    "imputer = SimpleImputer(strategy='mean')\n",
    "numerical_col = ['Time_spent_Alone', 'Social_event_attendance', 'Going_outside', 'Friends_circle_size', 'Post_frequency']\n",
    "df[numerical_col] = imputer.fit_transform(df[numerical_col])\n",
    "\n",
    "le = LabelEncoder()\n",
    "df['Stage_fear'] = le.fit_transform(df['Stage_fear'])  # Yes=1, No=0\n",
    "print(\"Stage_fear mapping:\", dict(zip(le.classes_, le.transform(le.classes_))))\n",
    "df['Drained_after_socializing'] = le.fit_transform(df['Drained_after_socializing'])\n",
    "print(\"Drained_after_socializing mapping:\", dict(zip(le.classes_, le.transform(le.classes_))))\n",
    "df['Personality'] = le.fit_transform(df['Personality'])  # Introvert=0, Extrovert=1\n",
    "print(\"Personality mapping:\", dict(zip(le.classes_, le.transform(le.classes_))))\n",
    "\n",
    "df"
   ]
  },
  {
   "cell_type": "code",
   "execution_count": 21,
   "id": "19eb1701",
   "metadata": {},
   "outputs": [],
   "source": [
    "from sklearn.model_selection import train_test_split\n",
    "from sklearn.preprocessing import StandardScaler\n",
    "\n",
    "X = df.drop(\"Personality\", axis=1)\n",
    "y = df[\"Personality\"]\n",
    "\n",
    "X_train, X_test, y_train, y_test = train_test_split(X, y, test_size=0.2, random_state=42)\n",
    "\n",
    "scaler = StandardScaler()\n",
    "X_train_scaled = scaler.fit_transform(X_train)\n",
    "X_test_scaled = scaler.transform(X_test)"
   ]
  },
  {
   "cell_type": "code",
   "execution_count": 62,
   "id": "467ba579",
   "metadata": {},
   "outputs": [],
   "source": [
    "from sklearn.linear_model import LogisticRegression\n",
    "from sklearn.metrics import accuracy_score\n",
    "\n",
    "model = LogisticRegression()\n",
    "model.fit(X_train_scaled, y_train)\n",
    "y_pred = model.predict(X_test_scaled)\n",
    "\n"
   ]
  },
  {
   "cell_type": "code",
   "execution_count": null,
   "id": "9789706e",
   "metadata": {},
   "outputs": [],
   "source": [
    "from sklearn.ensemble import RandomForestClassifier\n",
    "from sklearn.metrics import accuracy_score\n",
    "\n",
    "model = RandomForestClassifier(n_estimators=50, max_depth=5, min_samples_split=5)\n",
    "model.fit(X_train_scaled, y_train)\n",
    "y_pred = model.predict(X_test_scaled)"
   ]
  },
  {
   "cell_type": "code",
   "execution_count": 60,
   "id": "4b61e180",
   "metadata": {},
   "outputs": [
    {
     "name": "stderr",
     "output_type": "stream",
     "text": [
      "d:\\Streamlit Projects\\.env\\Lib\\site-packages\\xgboost\\training.py:183: UserWarning: [19:53:18] WARNING: C:\\actions-runner\\_work\\xgboost\\xgboost\\src\\learner.cc:738: \n",
      "Parameters: { \"use_label_encoder\" } are not used.\n",
      "\n",
      "  bst.update(dtrain, iteration=i, fobj=obj)\n"
     ]
    }
   ],
   "source": [
    "from xgboost import XGBClassifier\n",
    "from sklearn.metrics import accuracy_score\n",
    "\n",
    "model = XGBClassifier(\n",
    "    n_estimators=100,\n",
    "    max_depth=4,\n",
    "    learning_rate=0.05,\n",
    "    subsample=0.8,\n",
    "    colsample_bytree=0.8,\n",
    "    use_label_encoder=False,\n",
    "    eval_metric='logloss',\n",
    "    random_state=42\n",
    "    )\n",
    "model.fit(X_train_scaled, y_train)\n",
    "y_pred = model.predict(X_test_scaled)"
   ]
  },
  {
   "cell_type": "code",
   "execution_count": 63,
   "id": "61a12df2",
   "metadata": {},
   "outputs": [
    {
     "name": "stdout",
     "output_type": "stream",
     "text": [
      "Accuracy: 0.9206896551724137\n"
     ]
    }
   ],
   "source": [
    "print(\"Accuracy:\", accuracy_score(y_test, y_pred))"
   ]
  },
  {
   "cell_type": "code",
   "execution_count": 12,
   "id": "a0a89a6b",
   "metadata": {},
   "outputs": [
    {
     "data": {
      "text/plain": [
       "{'max_depth': 5, 'min_samples_split': 2, 'n_estimators': 50}"
      ]
     },
     "execution_count": 12,
     "metadata": {},
     "output_type": "execute_result"
    }
   ],
   "source": [
    "from sklearn.ensemble import RandomForestClassifier\n",
    "from sklearn.model_selection import GridSearchCV\n",
    "\n",
    "param_grid = {\n",
    "    'n_estimators': [50, 100, 200],\n",
    "    'max_depth': [None, 5, 10],\n",
    "    'min_samples_split': [2, 5]\n",
    "}\n",
    "\n",
    "rf = RandomForestClassifier(random_state=42)\n",
    "grid_search = GridSearchCV(rf, param_grid, cv=5, scoring='accuracy', n_jobs=-1)\n",
    "grid_search.fit(X_train_scaled, y_train)\n",
    "grid_search.best_params_\n"
   ]
  },
  {
   "cell_type": "code",
   "execution_count": 13,
   "id": "ab61016e",
   "metadata": {},
   "outputs": [
    {
     "name": "stdout",
     "output_type": "stream",
     "text": [
      "              precision    recall  f1-score   support\n",
      "\n",
      "           0       0.94      0.92      0.93       302\n",
      "           1       0.92      0.94      0.93       278\n",
      "\n",
      "    accuracy                           0.93       580\n",
      "   macro avg       0.93      0.93      0.93       580\n",
      "weighted avg       0.93      0.93      0.93       580\n",
      "\n"
     ]
    }
   ],
   "source": [
    "from sklearn.metrics import classification_report\n",
    "\n",
    "best_model = grid_search.best_estimator_\n",
    "y_pred = best_model.predict(X_test_scaled)\n",
    "\n",
    "print(classification_report(y_test, y_pred))"
   ]
  },
  {
   "cell_type": "code",
   "execution_count": 64,
   "id": "447d30fc",
   "metadata": {},
   "outputs": [
    {
     "data": {
      "text/plain": [
       "['scaler.pkl']"
      ]
     },
     "execution_count": 64,
     "metadata": {},
     "output_type": "execute_result"
    }
   ],
   "source": [
    "import joblib\n",
    "\n",
    "joblib.dump(model, 'personality_model.pkl')\n",
    "joblib.dump(scaler, 'scaler.pkl')"
   ]
  }
 ],
 "metadata": {
  "kernelspec": {
   "display_name": ".env",
   "language": "python",
   "name": "python3"
  },
  "language_info": {
   "codemirror_mode": {
    "name": "ipython",
    "version": 3
   },
   "file_extension": ".py",
   "mimetype": "text/x-python",
   "name": "python",
   "nbconvert_exporter": "python",
   "pygments_lexer": "ipython3",
   "version": "3.12.0"
  }
 },
 "nbformat": 4,
 "nbformat_minor": 5
}
